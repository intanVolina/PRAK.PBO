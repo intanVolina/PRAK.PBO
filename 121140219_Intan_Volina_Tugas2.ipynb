{
  "nbformat": 4,
  "nbformat_minor": 0,
  "metadata": {
    "colab": {
      "provenance": []
    },
    "kernelspec": {
      "name": "python3",
      "display_name": "Python 3"
    },
    "language_info": {
      "name": "python"
    }
  },
  "cells": [
    {
      "cell_type": "code",
      "execution_count": 8,
      "metadata": {
        "id": "U9FxNUNDBSgy",
        "colab": {
          "base_uri": "https://localhost:8080/",
          "height": 217
        },
        "outputId": "06c4d1fc-e3d7-4bc7-ae00-71e722da363e"
      },
      "outputs": [
        {
          "output_type": "error",
          "ename": "TypeError",
          "evalue": "ignored",
          "traceback": [
            "\u001b[0;31m---------------------------------------------------------------------------\u001b[0m",
            "\u001b[0;31mTypeError\u001b[0m                                 Traceback (most recent call last)",
            "\u001b[0;32m<ipython-input-8-a81d8a205800>\u001b[0m in \u001b[0;36m<module>\u001b[0;34m\u001b[0m\n\u001b[1;32m      7\u001b[0m     \u001b[0;32mdef\u001b[0m \u001b[0mmemanggil_sks\u001b[0m\u001b[0;34m(\u001b[0m\u001b[0mself\u001b[0m\u001b[0;34m)\u001b[0m\u001b[0;34m:\u001b[0m\u001b[0;34m\u001b[0m\u001b[0;34m\u001b[0m\u001b[0m\n\u001b[1;32m      8\u001b[0m        \u001b[0mprint\u001b[0m\u001b[0;34m(\u001b[0m\u001b[0;34m\"jumlah sks\"\u001b[0m\u001b[0;34m,\u001b[0m \u001b[0mself\u001b[0m\u001b[0;34m.\u001b[0m\u001b[0mnama\u001b[0m\u001b[0;34m,\u001b[0m \u001b[0;34m\"dengan nim\"\u001b[0m\u001b[0;34m,\u001b[0m \u001b[0mself\u001b[0m\u001b[0;34m.\u001b[0m\u001b[0mnim\u001b[0m\u001b[0;34m,\u001b[0m \u001b[0;34m\"dari kelas pbo\"\u001b[0m\u001b[0;34m,\u001b[0m \u001b[0mself\u001b[0m\u001b[0;34m.\u001b[0m\u001b[0mkelas_pbo_siakad\u001b[0m\u001b[0;34m,\u001b[0m \u001b[0;34m\"adalah\"\u001b[0m\u001b[0;34m,\u001b[0m \u001b[0mself\u001b[0m\u001b[0;34m.\u001b[0m\u001b[0mjumlah_sks\u001b[0m\u001b[0;34m)\u001b[0m\u001b[0;34m\u001b[0m\u001b[0;34m\u001b[0m\u001b[0m\n\u001b[0;32m----> 9\u001b[0;31m \u001b[0mmahasiswa1\u001b[0m \u001b[0;34m=\u001b[0m \u001b[0mMahasiswa\u001b[0m\u001b[0;34m(\u001b[0m\u001b[0;34m\"Intan Volina\"\u001b[0m\u001b[0;34m,\u001b[0m \u001b[0;34m\"121140219\"\u001b[0m\u001b[0;34m,\u001b[0m \u001b[0;34m\"RD\"\u001b[0m\u001b[0;34m,\u001b[0m \u001b[0;34m\"23\"\u001b[0m\u001b[0;34m)\u001b[0m\u001b[0;34m\u001b[0m\u001b[0;34m\u001b[0m\u001b[0m\n\u001b[0m\u001b[1;32m     10\u001b[0m \u001b[0mmahasiswa1\u001b[0m\u001b[0;34m.\u001b[0m\u001b[0mmemanggil_sks\u001b[0m\u001b[0;34m(\u001b[0m\u001b[0;34m)\u001b[0m\u001b[0;34m\u001b[0m\u001b[0;34m\u001b[0m\u001b[0m\n",
            "\u001b[0;31mTypeError\u001b[0m: Mahasiswa() takes no arguments"
          ]
        }
      ],
      "source": [
        "class Mahasiswa:\n",
        "    def _init_(self, nama, nim, kelas_pbo_siakad, jumlah_sks):\n",
        "        self.nama = nama\n",
        "        self.nim = nim\n",
        "        self.kelas_pbo_siakad = kelas_pbo_siakad\n",
        "        self.jumlah_sks = jumlah_sks\n",
        "    def memanggil_sks(self):\n",
        "       print(\"jumlah sks\", self.nama, \"dengan nim\", self.nim, \"dari kelas pbo\", self.kelas_pbo_siakad, \"adalah\", self.jumlah_sks)\n",
        "mahasiswa1 = Mahasiswa(\"Intan Volina\", \"121140219\", \"RD\", \"23\")\n",
        "mahasiswa1.memanggil_sks()"
      ]
    }
  ]
}
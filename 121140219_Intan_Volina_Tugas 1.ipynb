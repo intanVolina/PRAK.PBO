{
  "nbformat": 4,
  "nbformat_minor": 0,
  "metadata": {
    "colab": {
      "provenance": []
    },
    "kernelspec": {
      "name": "python3",
      "display_name": "Python 3"
    },
    "language_info": {
      "name": "python"
    }
  },
  "cells": [
    {
      "cell_type": "code",
      "source": [
        "n = int(input(\"Input : \"))\n",
        "for i in range (n):\n",
        "    for j in range (n):\n",
        "        print (\"*\", end = \"\")\n",
        "    print()"
      ],
      "metadata": {
        "colab": {
          "base_uri": "https://localhost:8080/"
        },
        "id": "j4Arf0EojGUh",
        "outputId": "0747d33d-adb9-4f26-e41b-eb00948c1bcc"
      },
      "execution_count": 3,
      "outputs": [
        {
          "output_type": "stream",
          "name": "stdout",
          "text": [
            "Input : 5\n",
            "*****\n",
            "*****\n",
            "*****\n",
            "*****\n",
            "*****\n"
          ]
        }
      ]
    },
    {
      "cell_type": "code",
      "source": [
        "username = \"kim seokjin\"\n",
        "password = \"121140219\"\n",
        "\n",
        "for i in range(3):\n",
        "\n",
        "    input_username = input(\"Username anda : \")\n",
        "    input_password = input(\"Password anda : \")\n",
        "    if input_username == username and input_password == password:\n",
        "        print(\"Berhasil Login!\")\n",
        "        break\n",
        "    else:\n",
        "        print(\"Username atau password salah coba lagi\")\n",
        "else:\n",
        "    print(\"Akun Anda Diblokir\")"
      ],
      "metadata": {
        "id": "DCOzsvmCjWis"
      },
      "execution_count": null,
      "outputs": []
    }
  ]
}